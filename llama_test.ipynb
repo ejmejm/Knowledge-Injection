{
 "cells": [
  {
   "cell_type": "code",
   "execution_count": 1,
   "metadata": {},
   "outputs": [
    {
     "name": "stderr",
     "output_type": "stream",
     "text": [
      "2024-10-22 21:56:16.777181: I tensorflow/core/platform/cpu_feature_guard.cc:210] This TensorFlow binary is optimized to use available CPU instructions in performance-critical operations.\n",
      "To enable the following instructions: AVX2 FMA, in other operations, rebuild TensorFlow with the appropriate compiler flags.\n",
      "2024-10-22 21:56:18.005278: W tensorflow/compiler/tf2tensorrt/utils/py_utils.cc:38] TF-TRT Warning: Could not find TensorRT\n"
     ]
    }
   ],
   "source": [
    "import torch\n",
    "from transformers import AutoTokenizer, AutoModelForCausalLM, pipeline"
   ]
  },
  {
   "cell_type": "code",
   "execution_count": 24,
   "metadata": {},
   "outputs": [],
   "source": [
    "def load_llama_model():\n",
    "    \"\"\"\n",
    "    Loads the Llama 3.2-1B model with flash attention and bf16 precision.\n",
    "    \n",
    "    Returns:\n",
    "        pipeline: A text-generation pipeline for easy testing.\n",
    "    \"\"\"\n",
    "    model_name = 'meta-llama/Llama-3.2-1B-Instruct'\n",
    "    \n",
    "    # Load tokenizer\n",
    "    tokenizer = AutoTokenizer.from_pretrained(model_name)\n",
    "    \n",
    "    # Load model with flash attention and bf16 precision\n",
    "    model = AutoModelForCausalLM.from_pretrained(\n",
    "        model_name,\n",
    "        torch_dtype=torch.bfloat16,\n",
    "        device_map='auto',\n",
    "        attn_implementation='flash_attention_2',\n",
    "    )\n",
    "    \n",
    "    # Create pipeline for easy testing\n",
    "    pipe = pipeline(\n",
    "        'text-generation',\n",
    "        model=model,\n",
    "        tokenizer=tokenizer,\n",
    "    )\n",
    "    \n",
    "    return pipe\n",
    "\n",
    "\n",
    "def generate_response(pipe, prompt, max_length=100, temperature=0.7, top_p=0.9, repetition_penalty=1.1):\n",
    "    \"\"\"\n",
    "    Generates a response using the Llama model pipeline.\n",
    "    \n",
    "    Args:\n",
    "        pipe: The text-generation pipeline.\n",
    "        prompt (str): The input prompt.\n",
    "        max_length (int): Maximum length of the generated text.\n",
    "        temperature (float): Controls randomness in generation.\n",
    "        top_p (float): Nucleus sampling parameter.\n",
    "        repetition_penalty (float): Penalizes repetition in generated text.\n",
    "    \n",
    "    Returns:\n",
    "        str: The generated response.\n",
    "    \"\"\"\n",
    "    response = pipe(\n",
    "        prompt,\n",
    "        max_length=max_length,\n",
    "        temperature=temperature,\n",
    "        top_p=top_p,\n",
    "        repetition_penalty=repetition_penalty,\n",
    "        do_sample=True,\n",
    "        num_return_sequences=1\n",
    "    )[0]['generated_text']\n",
    "    \n",
    "    return response"
   ]
  },
  {
   "cell_type": "code",
   "execution_count": 25,
   "metadata": {},
   "outputs": [],
   "source": [
    "# Load the model\n",
    "llama_pipeline = load_llama_model()"
   ]
  },
  {
   "cell_type": "code",
   "execution_count": 33,
   "metadata": {},
   "outputs": [
    {
     "name": "stderr",
     "output_type": "stream",
     "text": [
      "Setting `pad_token_id` to `eos_token_id`:None for open-end generation.\n"
     ]
    },
    {
     "name": "stdout",
     "output_type": "stream",
     "text": [
      "===== Prompt =====\n",
      "Who was the president of the US in 1854?\n",
      "\n",
      "===== Response =====\n",
      "In 1854, the President of the United States was Franklin Pierce. He served as the 14th President from March 4, 1853, to March 4, 1857.\n"
     ]
    }
   ],
   "source": [
    "# Example usage\n",
    "messages = [\n",
    "    # {\"role\": \"system\", \"content\": \"You are a pirate chatbot who always responds in pirate speak!\"},\n",
    "    {\"role\": \"user\", \"content\": \"Who was the president of the US in 1854?\"},\n",
    "]\n",
    "response = generate_response(llama_pipeline, messages)\n",
    "print(f'===== Prompt =====\\n{messages[-1][\"content\"]}\\n\\n===== Response =====\\n{response[-1][\"content\"]}')\n"
   ]
  }
 ],
 "metadata": {
  "kernelspec": {
   "display_name": "intract",
   "language": "python",
   "name": "python3"
  },
  "language_info": {
   "codemirror_mode": {
    "name": "ipython",
    "version": 3
   },
   "file_extension": ".py",
   "mimetype": "text/x-python",
   "name": "python",
   "nbconvert_exporter": "python",
   "pygments_lexer": "ipython3",
   "version": "3.9.16"
  }
 },
 "nbformat": 4,
 "nbformat_minor": 2
}
